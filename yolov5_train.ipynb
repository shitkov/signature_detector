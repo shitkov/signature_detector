{
  "nbformat": 4,
  "nbformat_minor": 0,
  "metadata": {
    "accelerator": "GPU",
    "colab": {
      "name": "yolov5_train.ipynb",
      "provenance": [],
      "collapsed_sections": []
    },
    "kernelspec": {
      "display_name": "Python 3",
      "name": "python3"
    },
    "language_info": {
      "name": "python"
    }
  },
  "cells": [
    {
      "cell_type": "code",
      "metadata": {
        "id": "mzl9mnLrvLfp"
      },
      "source": [
        "%%capture\n",
        "!wget https://raw.githubusercontent.com/shitkov/signature_detector/main/dataset.zip\n",
        "!git clone https://github.com/ultralytics/yolov5\n",
        "%cd yolov5\n",
        "%pip install -qr requirements.txt\n",
        "!unzip /content/dataset.zip -d /content/yolov5/"
      ],
      "execution_count": null,
      "outputs": []
    },
    {
      "cell_type": "code",
      "metadata": {
        "id": "KFeBQo73VwWC"
      },
      "source": [
        "import torch\n",
        "from IPython.display import Image, clear_output"
      ],
      "execution_count": 2,
      "outputs": []
    },
    {
      "cell_type": "code",
      "metadata": {
        "id": "MT6Fw41HNamX"
      },
      "source": [
        "!python train.py --img 1024 --batch 2 --epochs 300 --data '/dataset/sig.yaml' --cfg yolov5m.yaml --weights yolov5m.pt --cache"
      ],
      "execution_count": null,
      "outputs": []
    },
    {
      "cell_type": "code",
      "metadata": {
        "id": "NrWsa07POIVj"
      },
      "source": [
        "!python val.py --weights '/content/yolov5/runs/train/exp/weights/best.pt' --data '/dataset/sig.yaml' --img 1024 --iou 0.65 --half"
      ],
      "execution_count": null,
      "outputs": []
    },
    {
      "cell_type": "code",
      "metadata": {
        "id": "E3rZN4JqfOOO"
      },
      "source": [
        "%cp '/content/yolov5/runs/train/exp/weights/best.pt' -r '/content/yolov5m_1024p_300.pt'"
      ],
      "execution_count": 5,
      "outputs": []
    }
  ]
}